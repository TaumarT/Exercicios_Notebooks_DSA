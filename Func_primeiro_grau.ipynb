{
 "cells": [
  {
   "cell_type": "code",
   "execution_count": 2,
   "metadata": {},
   "outputs": [
    {
     "name": "stdout",
     "output_type": "stream",
     "text": [
      "função  3x - 1\n",
      "Digite o valor de X: 3\n",
      "x:  3 8\n",
      "y:  8 3\n"
     ]
    },
    {
     "data": {
      "image/png": "[encoded data removed]",
      "text/plain": [
       "<Figure size 432x288 with 1 Axes>"
      ]
     },
     "metadata": {},
     "output_type": "display_data"
    }
   ],
   "source": [
    "import matplotlib.pyplot as plt\n",
    "\n",
    "print(\"função  3x - 1\")\n",
    "x = int(input(\"Digite o valor de X: \"))\n",
    "\n",
    "\n",
    "valor = (3*x)-1\n",
    "y = (3*x)-1\n",
    "\n",
    "print(\"x: \",x,valor)\n",
    "print(\"y: \",y,x)\n",
    "\n",
    "plt.plot([x,valor],[y,x])\n",
    "plt.title('Função primeiro Grau')\n",
    "plt.show()"
   ]
  },
  {
   "cell_type": "code",
   "execution_count": null,
   "metadata": {},
   "outputs": [],
   "source": [
    "import matplotlib.pyplot as pt\n",
    "\n",
    "print(\"a função é :f(x) = ax^2 + bx + c\")\n",
    "a = int(input(\"digite o valor de a:\"))\n",
    "b = int(input(\"digite o valor de b:\"))\n",
    "c = int(input(\"digite o valor de c:\"))\n",
    "x = int(input(\"digite o valor de x:\"))\n",
    "\n"
   ]
  },
  {
   "cell_type": "code",
   "execution_count": 3,
   "metadata": {},
   "outputs": [
    {
     "name": "stdout",
     "output_type": "stream",
     "text": [
      "a função é :f(x) = ax^2 + bx + c\n"
     ]
    }
   ],
   "source": []
  },
  {
   "cell_type": "code",
   "execution_count": null,
   "metadata": {},
   "outputs": [],
   "source": []
  }
 ],
 "metadata": {
  "kernelspec": {
   "display_name": "Python 3",
   "language": "python",
   "name": "python3"
  },
  "language_info": {
   "codemirror_mode": {
    "name": "ipython",
    "version": 3
   },
   "file_extension": ".py",
   "mimetype": "text/x-python",
   "name": "python",
   "nbconvert_exporter": "python",
   "pygments_lexer": "ipython3",
   "version": "3.6.5"
  }
 },
 "nbformat": 4,
 "nbformat_minor": 2
}
